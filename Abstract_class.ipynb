{
  "nbformat": 4,
  "nbformat_minor": 0,
  "metadata": {
    "colab": {
      "provenance": [],
      "authorship_tag": "ABX9TyN7rfFvD0MKfQV38xJWfgAb",
      "include_colab_link": true
    },
    "kernelspec": {
      "name": "python3",
      "display_name": "Python 3"
    },
    "language_info": {
      "name": "python"
    }
  },
  "cells": [
    {
      "cell_type": "markdown",
      "metadata": {
        "id": "view-in-github",
        "colab_type": "text"
      },
      "source": [
        "<a href=\"https://colab.research.google.com/github/sairatnamukta/OOPS/blob/master/Abstract_class.ipynb\" target=\"_parent\"><img src=\"https://colab.research.google.com/assets/colab-badge.svg\" alt=\"Open In Colab\"/></a>"
      ]
    },
    {
      "cell_type": "code",
      "execution_count": null,
      "metadata": {
        "id": "CiJuijY7NHqP"
      },
      "outputs": [],
      "source": [
        "#making methods or functions manadatory for the inherited class\n",
        "#this is enforcement of code \n",
        "#one or more abstract methods is called abstract class"
      ]
    },
    {
      "cell_type": "code",
      "source": [
        "from abc import ABC,abstractmethod\n",
        "\n",
        "class vehicle(ABC):\n",
        "\n",
        "  @abstractmethod                                 ####this is interface of the method\n",
        "  def get_value(self):      \n",
        "    pass\n",
        "class car(vehicle):\n",
        "\n",
        "  def __init__(self,make,model,fare):\n",
        "    self.make=make\n",
        "    self.model=model\n",
        "    self.fare=fare\n",
        "  \n",
        "  def get_value(self):                           # this is implementation of method\n",
        "    return 10*self.fare\n",
        "a=car(\"tesla\",2019,1000)\n",
        "a.get_value()"
      ],
      "metadata": {
        "colab": {
          "base_uri": "https://localhost:8080/"
        },
        "id": "fjZKC32YYITm",
        "outputId": "b319eabc-8271-425a-c76c-e0d8fc576158"
      },
      "execution_count": 1,
      "outputs": [
        {
          "output_type": "execute_result",
          "data": {
            "text/plain": [
              "10000"
            ]
          },
          "metadata": {},
          "execution_count": 1
        }
      ]
    }
  ]
}