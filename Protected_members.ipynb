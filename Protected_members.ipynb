{
  "nbformat": 4,
  "nbformat_minor": 0,
  "metadata": {
    "colab": {
      "provenance": [],
      "authorship_tag": "ABX9TyM9JpyfloqnZWsdwpmi6Msn",
      "include_colab_link": true
    },
    "kernelspec": {
      "name": "python3",
      "display_name": "Python 3"
    },
    "language_info": {
      "name": "python"
    }
  },
  "cells": [
    {
      "cell_type": "markdown",
      "metadata": {
        "id": "view-in-github",
        "colab_type": "text"
      },
      "source": [
        "<a href=\"https://colab.research.google.com/github/sairatnamukta/OOPS/blob/main/Protected_members.ipynb\" target=\"_parent\"><img src=\"https://colab.research.google.com/assets/colab-badge.svg\" alt=\"Open In Colab\"/></a>"
      ]
    },
    {
      "cell_type": "markdown",
      "source": [
        "Protected are introduced in oython for just name handling .\n",
        "Protected and private can be accessible by any objects in python developer should be aware of not using protected and private members"
      ],
      "metadata": {
        "id": "LKXTAnVtZXto"
      }
    },
    {
      "cell_type": "code",
      "execution_count": 4,
      "metadata": {
        "colab": {
          "base_uri": "https://localhost:8080/"
        },
        "id": "850JogAqXxc7",
        "outputId": "ff84d631-8be7-4a81-cf83-b0d9b830d6ef"
      },
      "outputs": [
        {
          "output_type": "execute_result",
          "data": {
            "text/plain": [
              "404.0"
            ]
          },
          "metadata": {},
          "execution_count": 4
        }
      ],
      "source": [
        "class vehicle :\n",
        "  current_year=2021\n",
        "  base_price=10000\n",
        "\n",
        "  def __init__(self,make,model,fuel):\n",
        "    self._model=model\n",
        "    self._make=make\n",
        "    self._fuel=fuel\n",
        "  \n",
        "  def _get_value(self):\n",
        "    return self._make - vehicle.current_year\n",
        "\n",
        "class car(vehicle):\n",
        "  def __init__(self,make,model,fuel,sunroof,ac):\n",
        "    super(car,self).__init__(make,model,fuel)\n",
        "    self._sunroof=sunroof\n",
        "    self._ac=ac\n",
        "  \n",
        "  def _get_value(self):\n",
        "    return (vehicle.current_year + self._make)/10\n",
        "c=car(2019,\"tesla\",\"petrol\",True,True)\n",
        "c._get_value()"
      ]
    }
  ]
}