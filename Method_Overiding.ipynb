{
  "nbformat": 4,
  "nbformat_minor": 0,
  "metadata": {
    "colab": {
      "provenance": [],
      "authorship_tag": "ABX9TyMVCLnnMOPzM8gWkdbhgDbZ",
      "include_colab_link": true
    },
    "kernelspec": {
      "name": "python3",
      "display_name": "Python 3"
    },
    "language_info": {
      "name": "python"
    }
  },
  "cells": [
    {
      "cell_type": "markdown",
      "metadata": {
        "id": "view-in-github",
        "colab_type": "text"
      },
      "source": [
        "<a href=\"https://colab.research.google.com/github/sairatnamukta/OOPS/blob/master/Method_Overiding.ipynb\" target=\"_parent\"><img src=\"https://colab.research.google.com/assets/colab-badge.svg\" alt=\"Open In Colab\"/></a>"
      ]
    },
    {
      "cell_type": "markdown",
      "source": [
        "This is classic example how method overide works .Even though in parent class we are creating a method which calculates the value of model.The print_value will be printed from child which doeanot do any calculations.\n",
        "\n",
        "---\n",
        "\n"
      ],
      "metadata": {
        "id": "uDOnUhgrU8E5"
      }
    },
    {
      "cell_type": "code",
      "execution_count": 8,
      "metadata": {
        "colab": {
          "base_uri": "https://localhost:8080/"
        },
        "id": "ouTp9z5INxOY",
        "outputId": "45450f4a-f4b2-4647-beb5-b329ba0f921a"
      },
      "outputs": [
        {
          "output_type": "stream",
          "name": "stdout",
          "text": [
            "2019 petrol\n"
          ]
        }
      ],
      "source": [
        "class vehicle:\n",
        "  current_year=2022\n",
        "\n",
        "  def __init__(self,make,model,fuel):\n",
        "    self.make=make\n",
        "    self.model=model\n",
        "    self.fuel=fuel\n",
        "  def print_value(self):\n",
        "    print(vehicle.current_year - self.make)//10\n",
        "\n",
        "class car(vehicle):\n",
        "  def __init__(self,make,model,fuel,roof,ac):\n",
        "    super().__init__(make,model,fuel)\n",
        "\n",
        "  def print_value(self):\n",
        "    print(self.make,end=\" \")\n",
        "    print(self.fuel)\n",
        "c=car(2019,\"tesla\",\"petrol\",True,True)\n",
        "c.print_value()"
      ]
    },
    {
      "cell_type": "markdown",
      "source": [
        "Method Overiding with private attributes.For private attributes we have to give *******self._ParentName__PrivateAttribute****** "
      ],
      "metadata": {
        "id": "UbJb_7JCU8PA"
      }
    },
    {
      "cell_type": "code",
      "source": [
        "class vehicle:\n",
        "  current_year=2022\n",
        "\n",
        "  def __init__(self,make,model,fuel):\n",
        "    self.__make=make\n",
        "    self.__model=model\n",
        "    self.fuel=fuel\n",
        "  def print_value(self):\n",
        "    print(vehicle.current_year - self.__make)//10\n",
        "\n",
        "class car(vehicle):\n",
        "  def __init__(self,make,model,fuel,roof,ac):\n",
        "    super().__init__(make,model,fuel)\n",
        "\n",
        "  def print_value(self):\n",
        "    print(self._vehicle__make,end=\" \")\n",
        "    print(self.fuel)\n",
        "c=car(2019,\"tesla\",\"petrol\",True,True)\n",
        "c.print_value()"
      ],
      "metadata": {
        "colab": {
          "base_uri": "https://localhost:8080/"
        },
        "id": "_V1zb0HdWNaG",
        "outputId": "7e8e2fb3-c6b0-4514-8b53-2fcb74839209"
      },
      "execution_count": 10,
      "outputs": [
        {
          "output_type": "stream",
          "name": "stdout",
          "text": [
            "2019 petrol\n"
          ]
        }
      ]
    },
    {
      "cell_type": "markdown",
      "source": [
        "Private methods cant be overrided"
      ],
      "metadata": {
        "id": "0EgDauXjW8BR"
      }
    },
    {
      "cell_type": "code",
      "source": [
        "class vehicle:\n",
        "  current_year=2022\n",
        "\n",
        "  def __init__(self,make,model,fuel):\n",
        "    self.make=make\n",
        "    self.model=model\n",
        "    self.fuel=fuel\n",
        "  def print_value(self):\n",
        "    print(vehicle.current_year - self.make)//10\n",
        "\n",
        "class car(vehicle):\n",
        "  def __init__(self,make,model,fuel,roof,ac):\n",
        "    super().__init__(make,model,fuel)\n",
        "\n",
        "  def print_value(self):\n",
        "    print(self.make-vehicle.current_year,end=\" \")\n",
        "    print(self.fuel)\n",
        "c=car(2019,\"tesla\",\"petrol\",True,True)\n",
        "c.print_value()"
      ],
      "metadata": {
        "colab": {
          "base_uri": "https://localhost:8080/"
        },
        "id": "WqlrT2fBXDTc",
        "outputId": "29276023-e663-46da-8f30-cec11697b656"
      },
      "execution_count": 12,
      "outputs": [
        {
          "output_type": "stream",
          "name": "stdout",
          "text": [
            "-3 petrol\n"
          ]
        }
      ]
    }
  ]
}