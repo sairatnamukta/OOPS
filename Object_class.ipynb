{
  "nbformat": 4,
  "nbformat_minor": 0,
  "metadata": {
    "colab": {
      "provenance": [],
      "authorship_tag": "ABX9TyN9CkOhEKT31DlOdALhH/cB",
      "include_colab_link": true
    },
    "kernelspec": {
      "name": "python3",
      "display_name": "Python 3"
    },
    "language_info": {
      "name": "python"
    }
  },
  "cells": [
    {
      "cell_type": "markdown",
      "metadata": {
        "id": "view-in-github",
        "colab_type": "text"
      },
      "source": [
        "<a href=\"https://colab.research.google.com/github/sairatnamukta/OOPS/blob/main/Object_class.ipynb\" target=\"_parent\"><img src=\"https://colab.research.google.com/assets/colab-badge.svg\" alt=\"Open In Colab\"/></a>"
      ]
    },
    {
      "cell_type": "markdown",
      "source": [
        "Every class defaultly inherits object class .\n",
        "Object class has :\n",
        "1)__new()__ : This is to create new object\n",
        "2)__init()__ : This is used to initialize the object.\n",
        "3)__str()__ : This is used for description of the class."
      ],
      "metadata": {
        "id": "R2Y02C7LbO4f"
      }
    },
    {
      "cell_type": "code",
      "execution_count": 5,
      "metadata": {
        "colab": {
          "base_uri": "https://localhost:8080/"
        },
        "id": "8ZKHmDdEbKek",
        "outputId": "18909aad-402a-4700-8d60-ae7c4bc38e1e"
      },
      "outputs": [
        {
          "output_type": "execute_result",
          "data": {
            "text/plain": [
              "2.19"
            ]
          },
          "metadata": {},
          "execution_count": 5
        }
      ],
      "source": [
        "class circle(object):\n",
        "  def __init__(self,radius):\n",
        "    self.__radius=radius\n",
        "  def  print(self):\n",
        "    return self.__radius\n",
        "    \n",
        "c=circle(2.19)\n",
        "c.print()\n"
      ]
    },
    {
      "cell_type": "code",
      "source": [
        "print(c)"
      ],
      "metadata": {
        "colab": {
          "base_uri": "https://localhost:8080/"
        },
        "id": "5JPs5iQucLXw",
        "outputId": "3070699a-ff94-47c6-ed75-0aed78068cde"
      },
      "execution_count": 6,
      "outputs": [
        {
          "output_type": "stream",
          "name": "stdout",
          "text": [
            "<__main__.circle object at 0x7fec3a656190>\n"
          ]
        }
      ]
    },
    {
      "cell_type": "code",
      "source": [
        "class circle(object):\n",
        "  def __init__(self,radius):\n",
        "    self.__radius=radius\n",
        "  def  print(self):\n",
        "    return self.__radius\n",
        "  def __str__(self):\n",
        "    return \"this is class circle and decription is overrided from object class\"\n",
        "c = circle(2)"
      ],
      "metadata": {
        "id": "0-p5Y9fkdBUP"
      },
      "execution_count": 11,
      "outputs": []
    },
    {
      "cell_type": "code",
      "source": [
        "print(c)"
      ],
      "metadata": {
        "colab": {
          "base_uri": "https://localhost:8080/"
        },
        "id": "y3pHkZc1d0X4",
        "outputId": "84d69a2e-9ec4-492f-a19d-633765655232"
      },
      "execution_count": 12,
      "outputs": [
        {
          "output_type": "stream",
          "name": "stdout",
          "text": [
            "this is class circle and decription is overrided from object class\n"
          ]
        }
      ]
    },
    {
      "cell_type": "code",
      "source": [],
      "metadata": {
        "id": "UeVkXGbwd8cY"
      },
      "execution_count": null,
      "outputs": []
    }
  ]
}