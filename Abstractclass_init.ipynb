{
  "nbformat": 4,
  "nbformat_minor": 0,
  "metadata": {
    "colab": {
      "provenance": [],
      "authorship_tag": "ABX9TyNzxe5zygqgsTG4b/fWrSQP",
      "include_colab_link": true
    },
    "kernelspec": {
      "name": "python3",
      "display_name": "Python 3"
    },
    "language_info": {
      "name": "python"
    }
  },
  "cells": [
    {
      "cell_type": "markdown",
      "metadata": {
        "id": "view-in-github",
        "colab_type": "text"
      },
      "source": [
        "<a href=\"https://colab.research.google.com/github/sairatnamukta/OOPS/blob/main/Abstractclass_init.ipynb\" target=\"_parent\"><img src=\"https://colab.research.google.com/assets/colab-badge.svg\" alt=\"Open In Colab\"/></a>"
      ]
    },
    {
      "cell_type": "markdown",
      "source": [
        "init is automaticlly passed to child classes in abstraction ! We can make abstaction without init also . No need to write super mehtod in the inherited classes"
      ],
      "metadata": {
        "id": "RYG53rDwdO6J"
      }
    },
    {
      "cell_type": "code",
      "execution_count": 4,
      "metadata": {
        "id": "iQEmirxT2mQ7"
      },
      "outputs": [],
      "source": [
        "from abc import ABC,abstractmethod\n"
      ]
    },
    {
      "cell_type": "code",
      "source": [
        "class readfile(ABC):\n",
        "\n",
        "  def __init__(self,filename,path):\n",
        "    self.path=path\n",
        "    self.filename=filename\n",
        "\n",
        "  @abstractmethod            #this is just interface of the rule\n",
        "  def get_path(self):\n",
        "    pass\n",
        "  @abstractmethod\n",
        "  def get_file(self):\n",
        "    pass\n",
        "  "
      ],
      "metadata": {
        "id": "3tLhqr3QETaX"
      },
      "execution_count": 5,
      "outputs": []
    },
    {
      "cell_type": "code",
      "source": [
        "class reader(readfile):\n",
        "\n",
        "  def get_path(self):     #this is execution of the rule\n",
        "      return self.path\n",
        "  def get_file(self):\n",
        "      return self.filename\n"
      ],
      "metadata": {
        "id": "sB4EsNUjESik"
      },
      "execution_count": 10,
      "outputs": []
    },
    {
      "cell_type": "code",
      "source": [
        "r=reader(\"fn1\",\"/path\")\n",
        "r.get_file()"
      ],
      "metadata": {
        "colab": {
          "base_uri": "https://localhost:8080/",
          "height": 35
        },
        "id": "X1yd4MxKESnA",
        "outputId": "7bfdb407-50c5-4961-b38b-529ebd4af183"
      },
      "execution_count": 11,
      "outputs": [
        {
          "output_type": "execute_result",
          "data": {
            "text/plain": [
              "'fn1'"
            ],
            "application/vnd.google.colaboratory.intrinsic+json": {
              "type": "string"
            }
          },
          "metadata": {},
          "execution_count": 11
        }
      ]
    },
    {
      "cell_type": "code",
      "source": [
        "class a(ABC):\n",
        "\n",
        "  @abstractmethod\n",
        "  def get_a(self):\n",
        "    pass\n",
        "\n",
        "class b(a):\n",
        "\n",
        "  def get_a(self):\n",
        "    return 'inside b '"
      ],
      "metadata": {
        "id": "-ZJsNLGHESpz"
      },
      "execution_count": 12,
      "outputs": []
    },
    {
      "cell_type": "code",
      "source": [
        "c=b()\n",
        "c.get_a()"
      ],
      "metadata": {
        "colab": {
          "base_uri": "https://localhost:8080/",
          "height": 35
        },
        "id": "CsP3RNQqEStM",
        "outputId": "67b808ba-696b-4e67-c471-e32efed8c1df"
      },
      "execution_count": 13,
      "outputs": [
        {
          "output_type": "execute_result",
          "data": {
            "text/plain": [
              "'inside b '"
            ],
            "application/vnd.google.colaboratory.intrinsic+json": {
              "type": "string"
            }
          },
          "metadata": {},
          "execution_count": 13
        }
      ]
    },
    {
      "cell_type": "code",
      "source": [],
      "metadata": {
        "id": "SzADKWKEESwQ"
      },
      "execution_count": null,
      "outputs": []
    },
    {
      "cell_type": "code",
      "source": [],
      "metadata": {
        "id": "lpe7zxEZESz2"
      },
      "execution_count": null,
      "outputs": []
    }
  ]
}