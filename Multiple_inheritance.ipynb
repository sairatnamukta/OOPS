{
  "nbformat": 4,
  "nbformat_minor": 0,
  "metadata": {
    "colab": {
      "provenance": [],
      "authorship_tag": "ABX9TyOSmpvrAULVuHj5736Pq/Dd",
      "include_colab_link": true
    },
    "kernelspec": {
      "name": "python3",
      "display_name": "Python 3"
    },
    "language_info": {
      "name": "python"
    }
  },
  "cells": [
    {
      "cell_type": "markdown",
      "metadata": {
        "id": "view-in-github",
        "colab_type": "text"
      },
      "source": [
        "<a href=\"https://colab.research.google.com/github/sairatnamukta/OOPS/blob/main/Multiple_inheritance.ipynb\" target=\"_parent\"><img src=\"https://colab.research.google.com/assets/colab-badge.svg\" alt=\"Open In Colab\"/></a>"
      ]
    },
    {
      "cell_type": "markdown",
      "source": [
        "Method resolution order is execution of methods in the given order.This depends on how you define the child class with parent1,parent2"
      ],
      "metadata": {
        "id": "7rXeYDbYpSK8"
      }
    },
    {
      "cell_type": "code",
      "execution_count": 7,
      "metadata": {
        "id": "8BB07mSEnO0_"
      },
      "outputs": [],
      "source": [
        "class vehicle :\n",
        "  def __init__(self,make,model,fuel):\n",
        "    self.make=make\n",
        "    self.model=model\n",
        "    self.fuel=fuel\n",
        "  def print(self):\n",
        "    return \"this is vehicle class \" + self.make \n",
        "class electric :\n",
        "  def __init__(self,make,model,fuel,distance):\n",
        "    self.make=make\n",
        "    self.model=model\n",
        "    self.fuel=fuel\n",
        "    self.distance=distance\n",
        "  def print(self):\n",
        "    return \"this is electric class \" + self.make\n",
        "\n",
        "class taxi(electric,vehicle):\n",
        "  def __init__(self,make,model,fuel,distance):\n",
        "    super().__init__(make,model,fuel,distance)\n",
        "\n"
      ]
    },
    {
      "cell_type": "code",
      "source": [
        "t=taxi(\"tesla\",2022,\"petrol\",500)"
      ],
      "metadata": {
        "id": "JIlS3Aw9ojhD"
      },
      "execution_count": 8,
      "outputs": []
    },
    {
      "cell_type": "code",
      "source": [
        "t.print()"
      ],
      "metadata": {
        "colab": {
          "base_uri": "https://localhost:8080/",
          "height": 35
        },
        "id": "1iBkf9peozLl",
        "outputId": "dda52d40-5ff2-4668-82bd-476ea4e71b5e"
      },
      "execution_count": 9,
      "outputs": [
        {
          "output_type": "execute_result",
          "data": {
            "text/plain": [
              "'this is electric class tesla'"
            ],
            "application/vnd.google.colaboratory.intrinsic+json": {
              "type": "string"
            }
          },
          "metadata": {},
          "execution_count": 9
        }
      ]
    },
    {
      "cell_type": "code",
      "source": [
        "taxi.mro() #list"
      ],
      "metadata": {
        "colab": {
          "base_uri": "https://localhost:8080/"
        },
        "id": "iuei9ozCo_Qy",
        "outputId": "2c763d4a-9b7a-4648-efa1-8e9b0eac0c42"
      },
      "execution_count": 13,
      "outputs": [
        {
          "output_type": "execute_result",
          "data": {
            "text/plain": [
              "[__main__.taxi, __main__.electric, __main__.vehicle, object]"
            ]
          },
          "metadata": {},
          "execution_count": 13
        }
      ]
    },
    {
      "cell_type": "code",
      "source": [
        "taxi.__mro__ #tuple"
      ],
      "metadata": {
        "colab": {
          "base_uri": "https://localhost:8080/"
        },
        "id": "RTAy76P5pBvh",
        "outputId": "1479b1c4-b4b7-4bf8-b017-4a7bf665e6c1"
      },
      "execution_count": 14,
      "outputs": [
        {
          "output_type": "execute_result",
          "data": {
            "text/plain": [
              "(__main__.taxi, __main__.electric, __main__.vehicle, object)"
            ]
          },
          "metadata": {},
          "execution_count": 14
        }
      ]
    },
    {
      "cell_type": "code",
      "source": [
        "class X: \n",
        "      pass\n",
        "class Y: \n",
        "      pass\n",
        "class Z:\n",
        "      pass\n",
        "class A(X,Y):\n",
        "      pass\n",
        "class B(Y,Z):\n",
        "      pass\n",
        "class C(B,A,Y):\n",
        "      pass"
      ],
      "metadata": {
        "id": "zZMC-RnApJvu"
      },
      "execution_count": 15,
      "outputs": []
    },
    {
      "cell_type": "markdown",
      "source": [
        "Important problem"
      ],
      "metadata": {
        "id": "qQoWCm5mqczv"
      }
    },
    {
      "cell_type": "code",
      "source": [
        "C.mro()"
      ],
      "metadata": {
        "colab": {
          "base_uri": "https://localhost:8080/"
        },
        "id": "v2VqSQQfqAHv",
        "outputId": "2fb6fb86-16f0-4434-87b2-90933193ab3f"
      },
      "execution_count": 16,
      "outputs": [
        {
          "output_type": "execute_result",
          "data": {
            "text/plain": [
              "[__main__.C,\n",
              " __main__.B,\n",
              " __main__.A,\n",
              " __main__.X,\n",
              " __main__.Y,\n",
              " __main__.Z,\n",
              " object]"
            ]
          },
          "metadata": {},
          "execution_count": 16
        }
      ]
    },
    {
      "cell_type": "code",
      "source": [],
      "metadata": {
        "id": "6RjlLDeBqEEW"
      },
      "execution_count": null,
      "outputs": []
    }
  ]
}