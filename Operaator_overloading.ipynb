{
  "nbformat": 4,
  "nbformat_minor": 0,
  "metadata": {
    "colab": {
      "provenance": [],
      "authorship_tag": "ABX9TyMhGJfgQrSd6BjtRQRSOE5h",
      "include_colab_link": true
    },
    "kernelspec": {
      "name": "python3",
      "display_name": "Python 3"
    },
    "language_info": {
      "name": "python"
    }
  },
  "cells": [
    {
      "cell_type": "markdown",
      "metadata": {
        "id": "view-in-github",
        "colab_type": "text"
      },
      "source": [
        "<a href=\"https://colab.research.google.com/github/sairatnamukta/OOPS/blob/main/Operaator_overloading.ipynb\" target=\"_parent\"><img src=\"https://colab.research.google.com/assets/colab-badge.svg\" alt=\"Open In Colab\"/></a>"
      ]
    },
    {
      "cell_type": "markdown",
      "source": [
        "every operator has realted function in python .listead as :\n",
        "'+'_______: __add__()\n",
        "'-'_______:__sub__()\n",
        "'*'_______:__mul__()\n",
        "refer to python officisl document "
      ],
      "metadata": {
        "id": "QCTIWp4xwvIQ"
      }
    },
    {
      "cell_type": "markdown",
      "source": [
        "Here we use method overloading to add to objects by manupaliting the default add function"
      ],
      "metadata": {
        "id": "-5-Q382rxSXL"
      }
    },
    {
      "cell_type": "code",
      "execution_count": 4,
      "metadata": {
        "colab": {
          "base_uri": "https://localhost:8080/"
        },
        "id": "FPmYqDHjtvPP",
        "outputId": "06cb0043-65b1-435e-d325-14cb68d5e4b4"
      },
      "outputs": [
        {
          "output_type": "stream",
          "name": "stdout",
          "text": [
            "the details are tesla 2022 petrol 100 \n"
          ]
        }
      ],
      "source": [
        "class a:\n",
        "  def __init__(self,make,model,fuel,fare):\n",
        "    self.make=make\n",
        "    self.model=model\n",
        "    self.fuel=fuel\n",
        "    self.fare=fare\n",
        "  #description constructor\n",
        "  def __str__(self):\n",
        "      return \"the details are {} {} {} {} \".format(self.make,self.model,self.fuel,self.fare)\n",
        "b1=a(\"tesla\",2022,\"petrol\",100)\n",
        "print(b1)"
      ]
    },
    {
      "cell_type": "code",
      "source": [
        "b2=a(\"tata\",2025,\"hydrogen\",25)\n",
        "print(b2)"
      ],
      "metadata": {
        "colab": {
          "base_uri": "https://localhost:8080/"
        },
        "id": "4Vry0HF6yGmf",
        "outputId": "6939a4aa-82a4-4d08-a935-1cf10a5e6969"
      },
      "execution_count": 5,
      "outputs": [
        {
          "output_type": "stream",
          "name": "stdout",
          "text": [
            "the details are tata 2025 hydrogen 25 \n"
          ]
        }
      ]
    },
    {
      "cell_type": "markdown",
      "source": [
        "trying to add b1 and b2"
      ],
      "metadata": {
        "id": "gS5EHRqqyydR"
      }
    },
    {
      "cell_type": "code",
      "source": [
        "b1+b2"
      ],
      "metadata": {
        "colab": {
          "base_uri": "https://localhost:8080/",
          "height": 166
        },
        "id": "CQ9_LYmGy1wq",
        "outputId": "25462eeb-3aaa-478f-f525-9560a39e2f8e"
      },
      "execution_count": 6,
      "outputs": [
        {
          "output_type": "error",
          "ename": "TypeError",
          "evalue": "ignored",
          "traceback": [
            "\u001b[0;31m---------------------------------------------------------------------------\u001b[0m",
            "\u001b[0;31mTypeError\u001b[0m                                 Traceback (most recent call last)",
            "\u001b[0;32m<ipython-input-6-dd56d44f5b5d>\u001b[0m in \u001b[0;36m<module>\u001b[0;34m\u001b[0m\n\u001b[0;32m----> 1\u001b[0;31m \u001b[0mb1\u001b[0m\u001b[0;34m+\u001b[0m\u001b[0mb2\u001b[0m\u001b[0;34m\u001b[0m\u001b[0;34m\u001b[0m\u001b[0m\n\u001b[0m",
            "\u001b[0;31mTypeError\u001b[0m: unsupported operand type(s) for +: 'a' and 'a'"
          ]
        }
      ]
    },
    {
      "cell_type": "markdown",
      "source": [
        "We can change the behaviour of '+' by using the function of it \n",
        "Now rhe class looks like this"
      ],
      "metadata": {
        "id": "i4aAB6zFy6Uz"
      }
    },
    {
      "cell_type": "code",
      "source": [
        "class a:\n",
        "  def __init__(self,make,model,fuel,fare):\n",
        "    self.make=make\n",
        "    self.model=model\n",
        "    self.fuel=fuel\n",
        "    self.fare=fare\n",
        "  #description constructor\n",
        "  def __str__(self):\n",
        "      return \"the details are {} {} {} {} \".format(self.make,self.model,self.fuel,self.fare)\n",
        "  def __add__(self,other):                          #add should contain two attributes a+b = add(a,b) i.e add(obj1,obj2)\n",
        "    return self.fare + other.fare\n",
        "b1=a(\"tesla\",2022,\"petrol\",100)"
      ],
      "metadata": {
        "id": "MnL7GFl_y5fA"
      },
      "execution_count": 10,
      "outputs": []
    },
    {
      "cell_type": "code",
      "source": [
        "b2=a(\"tata\",2025,\"hydrogen\",25)"
      ],
      "metadata": {
        "id": "yL_unElVy559"
      },
      "execution_count": 8,
      "outputs": []
    },
    {
      "cell_type": "code",
      "source": [
        "b1+b2"
      ],
      "metadata": {
        "colab": {
          "base_uri": "https://localhost:8080/"
        },
        "id": "IYXIjqlCzajh",
        "outputId": "b3d6a090-90c9-4c91-b10b-3e59e4d8878a"
      },
      "execution_count": 9,
      "outputs": [
        {
          "output_type": "execute_result",
          "data": {
            "text/plain": [
              "125"
            ]
          },
          "metadata": {},
          "execution_count": 9
        }
      ]
    },
    {
      "cell_type": "markdown",
      "source": [
        "if we observe we can now add object prevously cloudnot add because __add__ function is written in order add the data directly not class objects.\n",
        "Now we have changed it to add object data by self"
      ],
      "metadata": {
        "id": "dcxV4Jj5zeZF"
      }
    }
  ]
}