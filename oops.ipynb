{
  "nbformat": 4,
  "nbformat_minor": 0,
  "metadata": {
    "colab": {
      "provenance": [],
      "collapsed_sections": [],
      "toc_visible": true,
      "authorship_tag": "ABX9TyNSve4FIeVWth8cQDwl6iKy",
      "include_colab_link": true
    },
    "kernelspec": {
      "name": "python3",
      "display_name": "Python 3"
    },
    "language_info": {
      "name": "python"
    }
  },
  "cells": [
    {
      "cell_type": "markdown",
      "metadata": {
        "id": "view-in-github",
        "colab_type": "text"
      },
      "source": [
        "<a href=\"https://colab.research.google.com/github/sairatnamukta/OOPS/blob/master/oops.ipynb\" target=\"_parent\"><img src=\"https://colab.research.google.com/assets/colab-badge.svg\" alt=\"Open In Colab\"/></a>"
      ]
    },
    {
      "cell_type": "code",
      "execution_count": null,
      "metadata": {
        "id": "jNeu01OOTQ-3"
      },
      "outputs": [],
      "source": [
        "class expense :\n",
        "\n",
        "    def __init__(self,balance,date,typ):\n",
        "      self.date=date\n",
        "      self.typ=typ\n",
        "      self.bal=balance\n",
        " \n",
        "\n",
        "\n"
      ]
    },
    {
      "cell_type": "code",
      "source": [
        "home=expense(200,12,'sip')\n"
      ],
      "metadata": {
        "id": "av6vwgCpbvL5"
      },
      "execution_count": null,
      "outputs": []
    },
    {
      "cell_type": "code",
      "source": [
        "home.typ,home.bal"
      ],
      "metadata": {
        "colab": {
          "base_uri": "https://localhost:8080/"
        },
        "id": "r4sm6dLNcB46",
        "outputId": "935e9a83-b719-4b56-9e41-2927945cbcca"
      },
      "execution_count": null,
      "outputs": [
        {
          "output_type": "execute_result",
          "data": {
            "text/plain": [
              "('sip', 200)"
            ]
          },
          "metadata": {},
          "execution_count": 14
        }
      ]
    },
    {
      "cell_type": "code",
      "source": [
        "home.__dict__"
      ],
      "metadata": {
        "colab": {
          "base_uri": "https://localhost:8080/"
        },
        "id": "Vwpamw38cB71",
        "outputId": "d3035f55-d2b5-48c1-9d1e-0b3f6db7b5f8"
      },
      "execution_count": null,
      "outputs": [
        {
          "output_type": "execute_result",
          "data": {
            "text/plain": [
              "{'date': 12, 'typ': 'sip', 'bal': 200}"
            ]
          },
          "metadata": {},
          "execution_count": 15
        }
      ]
    },
    {
      "cell_type": "code",
      "source": [
        "hasattr(home,'date')"
      ],
      "metadata": {
        "colab": {
          "base_uri": "https://localhost:8080/"
        },
        "id": "3d4YvLpncB-y",
        "outputId": "55e7d939-bb09-42cf-8da2-562765d53478"
      },
      "execution_count": null,
      "outputs": [
        {
          "output_type": "execute_result",
          "data": {
            "text/plain": [
              "True"
            ]
          },
          "metadata": {},
          "execution_count": 16
        }
      ]
    },
    {
      "cell_type": "code",
      "source": [
        "hasattr(home,'bal')"
      ],
      "metadata": {
        "colab": {
          "base_uri": "https://localhost:8080/"
        },
        "id": "1ljJhEkEctJ8",
        "outputId": "c588fac2-3149-468b-d3c0-d872623d0036"
      },
      "execution_count": null,
      "outputs": [
        {
          "output_type": "execute_result",
          "data": {
            "text/plain": [
              "True"
            ]
          },
          "metadata": {},
          "execution_count": 18
        }
      ]
    },
    {
      "cell_type": "code",
      "source": [
        "getattr(home,'date')"
      ],
      "metadata": {
        "colab": {
          "base_uri": "https://localhost:8080/"
        },
        "id": "NEJSBI5mcCBu",
        "outputId": "4e7c3fc6-e601-4c61-d003-4477211d6feb"
      },
      "execution_count": null,
      "outputs": [
        {
          "output_type": "execute_result",
          "data": {
            "text/plain": [
              "12"
            ]
          },
          "metadata": {},
          "execution_count": 19
        }
      ]
    },
    {
      "cell_type": "code",
      "source": [
        "for i in home.__dict__ :\n",
        "  print(i)"
      ],
      "metadata": {
        "colab": {
          "base_uri": "https://localhost:8080/"
        },
        "id": "RRndxC9FcCEo",
        "outputId": "09e60ae7-65ef-4274-a805-f5513a5fb456"
      },
      "execution_count": null,
      "outputs": [
        {
          "output_type": "stream",
          "name": "stdout",
          "text": [
            "date\n",
            "typ\n",
            "bal\n"
          ]
        }
      ]
    },
    {
      "cell_type": "code",
      "source": [
        "class Student:\n",
        "    name = 'Parikh'\n",
        "    def store_details(self):\n",
        "        self.age = 60\n",
        "    def print_details(self):\n",
        "        print(self.name, end='')\n",
        "        print(self.age)\n",
        "s = Student()\n",
        "s.store_details()\n",
        "s.print_details()"
      ],
      "metadata": {
        "colab": {
          "base_uri": "https://localhost:8080/"
        },
        "id": "Mbg3RjIucCIJ",
        "outputId": "c62c772e-86e7-4743-c371-76bb2170d8a3"
      },
      "execution_count": null,
      "outputs": [
        {
          "output_type": "stream",
          "name": "stdout",
          "text": [
            "Parikh60\n"
          ]
        }
      ]
    },
    {
      "cell_type": "code",
      "source": [
        "class Student:\n",
        "    name = 'Parikh'\n",
        "    def store_details(self):\n",
        "        self.age = 60\n",
        "    def print_age(self):\n",
        "        print(self.age)\n",
        "s = Student()\n",
        "s.store_details()\n",
        "s1 = Student()\n",
        "s1.print_age()"
      ],
      "metadata": {
        "colab": {
          "base_uri": "https://localhost:8080/",
          "height": 322
        },
        "id": "tBR2ilhykGu9",
        "outputId": "ee876fb0-a851-4224-a627-3b81dbf5e16c"
      },
      "execution_count": null,
      "outputs": [
        {
          "output_type": "error",
          "ename": "AttributeError",
          "evalue": "ignored",
          "traceback": [
            "\u001b[0;31m---------------------------------------------------------------------------\u001b[0m",
            "\u001b[0;31mAttributeError\u001b[0m                            Traceback (most recent call last)",
            "\u001b[0;32m<ipython-input-24-424f776c1603>\u001b[0m in \u001b[0;36m<module>\u001b[0;34m\u001b[0m\n\u001b[1;32m      8\u001b[0m \u001b[0ms\u001b[0m\u001b[0;34m.\u001b[0m\u001b[0mstore_details\u001b[0m\u001b[0;34m(\u001b[0m\u001b[0;34m)\u001b[0m\u001b[0;34m\u001b[0m\u001b[0;34m\u001b[0m\u001b[0m\n\u001b[1;32m      9\u001b[0m \u001b[0ms1\u001b[0m \u001b[0;34m=\u001b[0m \u001b[0mStudent\u001b[0m\u001b[0;34m(\u001b[0m\u001b[0;34m)\u001b[0m\u001b[0;34m\u001b[0m\u001b[0;34m\u001b[0m\u001b[0m\n\u001b[0;32m---> 10\u001b[0;31m \u001b[0ms1\u001b[0m\u001b[0;34m.\u001b[0m\u001b[0mprint_age\u001b[0m\u001b[0;34m(\u001b[0m\u001b[0;34m)\u001b[0m\u001b[0;34m\u001b[0m\u001b[0;34m\u001b[0m\u001b[0m\n\u001b[0m",
            "\u001b[0;32m<ipython-input-24-424f776c1603>\u001b[0m in \u001b[0;36mprint_age\u001b[0;34m(self)\u001b[0m\n\u001b[1;32m      4\u001b[0m         \u001b[0mself\u001b[0m\u001b[0;34m.\u001b[0m\u001b[0mage\u001b[0m \u001b[0;34m=\u001b[0m \u001b[0;36m60\u001b[0m\u001b[0;34m\u001b[0m\u001b[0;34m\u001b[0m\u001b[0m\n\u001b[1;32m      5\u001b[0m     \u001b[0;32mdef\u001b[0m \u001b[0mprint_age\u001b[0m\u001b[0;34m(\u001b[0m\u001b[0mself\u001b[0m\u001b[0;34m)\u001b[0m\u001b[0;34m:\u001b[0m\u001b[0;34m\u001b[0m\u001b[0;34m\u001b[0m\u001b[0m\n\u001b[0;32m----> 6\u001b[0;31m         \u001b[0mprint\u001b[0m\u001b[0;34m(\u001b[0m\u001b[0mself\u001b[0m\u001b[0;34m.\u001b[0m\u001b[0mage\u001b[0m\u001b[0;34m)\u001b[0m\u001b[0;34m\u001b[0m\u001b[0;34m\u001b[0m\u001b[0m\n\u001b[0m\u001b[1;32m      7\u001b[0m \u001b[0ms\u001b[0m \u001b[0;34m=\u001b[0m \u001b[0mStudent\u001b[0m\u001b[0;34m(\u001b[0m\u001b[0;34m)\u001b[0m\u001b[0;34m\u001b[0m\u001b[0;34m\u001b[0m\u001b[0m\n\u001b[1;32m      8\u001b[0m \u001b[0ms\u001b[0m\u001b[0;34m.\u001b[0m\u001b[0mstore_details\u001b[0m\u001b[0;34m(\u001b[0m\u001b[0;34m)\u001b[0m\u001b[0;34m\u001b[0m\u001b[0;34m\u001b[0m\u001b[0m\n",
            "\u001b[0;31mAttributeError\u001b[0m: 'Student' object has no attribute 'age'"
          ]
        }
      ]
    },
    {
      "cell_type": "code",
      "source": [
        "l1=['Name', 'Health', 'Contract Status', 'Management IP', 'Model', 'Expansion Modules', 'UCS Domain Profile', 'Total', 'Used', 'Available', 'Serial', 'Organizations', 'Bundle Version', 'NX-OS Version']\n",
        "l2=['Name', 'Health', 'Contract Status', 'Management IP', 'Model', 'Expansion Modules', 'Bundle Version', 'NX-OS Version', 'Total', 'Used', 'Available', 'Serial', 'Organizations']\n",
        "for i in l1:\n",
        "  if i not in l2:\n",
        "    print(i)"
      ],
      "metadata": {
        "colab": {
          "base_uri": "https://localhost:8080/"
        },
        "id": "kY1nKIXlkdhr",
        "outputId": "e8dd4a67-6204-449a-c271-ee311b207a95"
      },
      "execution_count": null,
      "outputs": [
        {
          "output_type": "stream",
          "name": "stdout",
          "text": [
            "UCS Domain Profile\n"
          ]
        }
      ]
    },
    {
      "cell_type": "code",
      "source": [
        "a=['Name', 'Status', 'Server', 'Last Update', 'Organization', 'Target Platform', 'UCS Server Template', 'Resource Pool']\n",
        "b=['Name', 'Type', 'Nodes', 'Status', 'Assigned To', 'Description', 'Last Update', 'Organization']\n",
        "for i in a:\n",
        "  if i not in  b:\n",
        "    print(i)"
      ],
      "metadata": {
        "id": "DNlbtRGWkdk0",
        "colab": {
          "base_uri": "https://localhost:8080/"
        },
        "outputId": "81f227a0-a115-4a51-ceb9-b75d0050d828"
      },
      "execution_count": null,
      "outputs": [
        {
          "output_type": "stream",
          "name": "stdout",
          "text": [
            "Server\n",
            "Target Platform\n",
            "UCS Server Template\n",
            "Resource Pool\n"
          ]
        }
      ]
    },
    {
      "cell_type": "code",
      "source": [
        "#instance methods are only accessed by objects not even through class directly\n",
        "#after init any function returned can be called as instance unlees it sis mentioned as static\n",
        "#static method is defined by decorator as @staticmethod\n",
        "@staticmethod\n",
        "def stat(ammount):\n",
        "  return float(ammount)\n",
        "#staticmethod doeas not take self parameter and cant access instance specific attribute\n",
        "def card(self,balance):\n",
        "  return self.balance\n"
      ],
      "metadata": {
        "id": "Nx0eaTcrkdoZ"
      },
      "execution_count": null,
      "outputs": []
    },
    {
      "cell_type": "code",
      "source": [
        "class Student:\n",
        "      def __init__(self,name,age):\n",
        "          self.name = name\n",
        "          self.age = age\n",
        "      def print_student_details():\n",
        "          print(self.name, end=\" \" )\n",
        "          print(self.age)\n",
        "\n",
        "      @staticmethod\n",
        "      def isTeen(age):\n",
        "          return age>16\n",
        "\n",
        " "
      ],
      "metadata": {
        "id": "W6x4i_K_Ahn_"
      },
      "execution_count": null,
      "outputs": []
    },
    {
      "cell_type": "code",
      "source": [
        "a = Student.isTeen(18)\n",
        "print(a)"
      ],
      "metadata": {
        "colab": {
          "base_uri": "https://localhost:8080/"
        },
        "id": "_1EbmgtzAq0X",
        "outputId": "a6014aff-817e-4168-fcbc-bfdbc4297df2"
      },
      "execution_count": null,
      "outputs": [
        {
          "output_type": "stream",
          "name": "stdout",
          "text": [
            "True\n"
          ]
        }
      ]
    },
    {
      "cell_type": "markdown",
      "source": [
        "static metod\n"
      ],
      "metadata": {
        "id": "nkdNqzI_8Mcc"
      }
    },
    {
      "cell_type": "code",
      "source": [
        "class ExpenseTracker:\n",
        "  #class attribute\n",
        "  exp_ver_tracker=0.1\n",
        "  #constructor which initiates for every object\n",
        "  def __init__(self,category,org_bal,budget):\n",
        "    self.category=category\n",
        "    self.org_bal=org_bal\n",
        "    self.budget=budget\n",
        "  def get_original_balance(self): #self should be there for every method inside a class.\n",
        "    return self.org_bal\n",
        "  def min_bal(self):\n",
        "    if self.org_bal<1000:\n",
        "      return 'balance to low'\n",
        "\n",
        "  @staticmethod\n",
        "  def convert_amnt(amount):\n",
        "    return float(amount)\n",
        "  \n",
        "  @classmethod\n",
        "  def get_attributes_from_string(cls,strings:str):\n",
        "    category,org_bal,budget=strings.split(\" \")\n",
        "    return ExpenseTracker(category.capitalize(),\n",
        "                          cls.convert_amnt(org_bal),\n",
        "                          cls.convert_amnt(budget))\n",
        "    \n",
        "\n",
        "  \n",
        "\n"
      ],
      "metadata": {
        "id": "DmnuFRXVBVq-"
      },
      "execution_count": null,
      "outputs": []
    },
    {
      "cell_type": "markdown",
      "source": [
        "obj=ExpenseTracker(\"Home\",0,10000)\n",
        "obj2=ExpenseTracker(\"Business\",10000,100000)\n",
        "obj.get_original_balance()\n",
        "obj.convert_amount(1000)\n",
        "obj2.get_original_balance()\n",
        "obj.check_balance()\n",
        "obj.check_balance(limit=100000)"
      ],
      "metadata": {
        "id": "vzvn-QdoCini"
      }
    },
    {
      "cell_type": "code",
      "source": [
        "b1=ExpenseTracker(\"Home\",0,10000)\n",
        "b1.convert_amnt(b1.org_bal)"
      ],
      "metadata": {
        "colab": {
          "base_uri": "https://localhost:8080/"
        },
        "id": "YoHs2mPUBVtE",
        "outputId": "f08eeacb-e03a-45e5-94c6-b2190132e9e7"
      },
      "execution_count": null,
      "outputs": [
        {
          "output_type": "execute_result",
          "data": {
            "text/plain": [
              "0.0"
            ]
          },
          "metadata": {},
          "execution_count": 8
        }
      ]
    },
    {
      "cell_type": "code",
      "source": [
        "#single-inheritance\n",
        "\n",
        "class vehicle():\n",
        "  def __init__(self,make,model,fuel):\n",
        "    self.make=make\n",
        "    self.mmodel=model\n",
        "    self.fuel=fuel\n",
        "\n",
        "class car(vehicle):\n",
        "  def __init__(self,make,model,fuel,ac,sunroof):\n",
        "    #parents attribute\n",
        "    vehicle.make=make\n",
        "    vehicle.model=model\n",
        "    vehicle.fuel=fuel\n",
        "    \n",
        "    #child attributes\n",
        "    self.ac=ac\n",
        "    self.sunroof=sunroof\n",
        "  def all_attributes(self):\n",
        "    return vehicle.make+str(vehicle.model)+vehicle.fuel\n",
        "\n"
      ],
      "metadata": {
        "id": "n2XHa09ZBVwg"
      },
      "execution_count": null,
      "outputs": []
    },
    {
      "cell_type": "code",
      "source": [
        "b1=car(\"tesla\",2019,\"petrol\",True,True)"
      ],
      "metadata": {
        "id": "d41LjMrnBV0e"
      },
      "execution_count": null,
      "outputs": []
    },
    {
      "cell_type": "code",
      "source": [
        "b1.__dict__\n",
        "b1.all_attributes()\n"
      ],
      "metadata": {
        "colab": {
          "base_uri": "https://localhost:8080/",
          "height": 35
        },
        "id": "Zj-AkxAUBV31",
        "outputId": "54a4c8b9-916f-4e2a-8ea2-461a8f878771"
      },
      "execution_count": null,
      "outputs": [
        {
          "output_type": "execute_result",
          "data": {
            "text/plain": [
              "'tesla2019petrol'"
            ],
            "application/vnd.google.colaboratory.intrinsic+json": {
              "type": "string"
            }
          },
          "metadata": {},
          "execution_count": 24
        }
      ]
    },
    {
      "cell_type": "code",
      "source": [],
      "metadata": {
        "id": "gd7177V49uXh"
      },
      "execution_count": null,
      "outputs": []
    },
    {
      "cell_type": "code",
      "source": [
        "class Vehicle:\n",
        "    def __init__(self,color):\n",
        "        self.color = color\n",
        "class Car(Vehicle):\n",
        "    def __init__(self,color,numGears):\n",
        "        super().__init__(color)\n",
        "        self.numGears = numGears\n",
        "c= Car('black',5)\n",
        "print(c.color)"
      ],
      "metadata": {
        "id": "A29ZYSt49uad",
        "colab": {
          "base_uri": "https://localhost:8080/"
        },
        "outputId": "76aea41c-da0d-468a-c047-c7fb8522f71d"
      },
      "execution_count": null,
      "outputs": [
        {
          "output_type": "stream",
          "name": "stdout",
          "text": [
            "black\n"
          ]
        }
      ]
    },
    {
      "cell_type": "markdown",
      "source": [
        "Inheritance and private methods,attributes."
      ],
      "metadata": {
        "id": "_A7gf7-lmGs_"
      }
    },
    {
      "cell_type": "code",
      "source": [
        "class vehicle :\n",
        "  def __init__(self,make,model,fuel):\n",
        "      self.make=make\n",
        "      self.__model=model\n",
        "      self.__fuel=fuel\n",
        "  def __privatemethod_parent(self):\n",
        "      print(\"private method of parent\")\n",
        "class car(vehicle):\n",
        "    def __init__(self,make,model,fuel,ac,sunroof):\n",
        "      vehicle.make=make\n",
        "      vehicle.__model=model\n",
        "      vehicle.__fuel=fuel\n",
        "      self.ac=ac\n",
        "      self.sunroof=sunroof\n",
        "    def accessing__privatemethod_parent(self):\n",
        "      return self._vehicle__privatemethod_parent()"
      ],
      "metadata": {
        "id": "-ha0MNOx9uhS"
      },
      "execution_count": null,
      "outputs": []
    },
    {
      "cell_type": "code",
      "source": [
        "b=car(2019,\"tesla\",'petrol',True,True)\n",
        "b.accessing__privatemethod_parent()"
      ],
      "metadata": {
        "id": "UqCgIkUg9ukA",
        "colab": {
          "base_uri": "https://localhost:8080/"
        },
        "outputId": "e00301f1-9393-4fa2-bec5-e6bdf3d595bf"
      },
      "execution_count": null,
      "outputs": [
        {
          "output_type": "stream",
          "name": "stdout",
          "text": [
            "private method\n"
          ]
        }
      ]
    },
    {
      "cell_type": "code",
      "source": [
        "class Vehicle:\n",
        "     def __init__(self,color):\n",
        "         self.__color = color\n",
        "class Car(Vehicle):\n",
        "    def __init__(self,color,numGears):\n",
        "        #super().__init__(self.__color)\n",
        "        Vehicle.__color=color\n",
        "        self.numGears = numGears\n",
        "    def printCar(self):\n",
        "        print(c.__color,end=\" \")\n",
        "        print(c.numGears)\n",
        "c = Car('black',5)\n",
        "c.printCar()"
      ],
      "metadata": {
        "id": "pq9bSSWB9um5",
        "colab": {
          "base_uri": "https://localhost:8080/"
        },
        "outputId": "28566fb8-3f3c-42c7-ef7f-4294785fad41"
      },
      "execution_count": null,
      "outputs": [
        {
          "output_type": "stream",
          "name": "stdout",
          "text": [
            "black 5\n"
          ]
        }
      ]
    },
    {
      "cell_type": "code",
      "source": [
        "class vehicle :\n",
        "  def __init__(self,make,model,fuel):\n",
        "      self.make=make\n",
        "      self.__model=model\n",
        "      self.__fuel=fuel\n",
        "  def __privatemethod_parent(self):\n",
        "      print(\"private method of parent\")\n",
        "class car(vehicle):\n",
        "    def __init__(self,make,model,fuel,ac,sunroof):\n",
        "      super(car,self).__init__(make,model,fuel)\n",
        "      self.ac=ac\n",
        "      self.sunroof=sunroof\n",
        "    #def accessing__privatemethod_parent(self):\n",
        "     # return self._vehicle__privatemethod_parent()"
      ],
      "metadata": {
        "id": "6aJl2BHh9upq"
      },
      "execution_count": null,
      "outputs": []
    },
    {
      "cell_type": "code",
      "source": [
        "c=car(2020,\"toyota\",\"petrol\",True,True)\n",
        "c._vehicle__privatemethod_parent()\n",
        "c.__dict__"
      ],
      "metadata": {
        "id": "bewONmoG9use",
        "colab": {
          "base_uri": "https://localhost:8080/"
        },
        "outputId": "dab08200-72c9-4f8a-8162-fdeb8cfbfc7b"
      },
      "execution_count": null,
      "outputs": [
        {
          "output_type": "stream",
          "name": "stdout",
          "text": [
            "private method of parent\n"
          ]
        },
        {
          "output_type": "execute_result",
          "data": {
            "text/plain": [
              "{'make': 2020,\n",
              " '_vehicle__model': 'toyota',\n",
              " '_vehicle__fuel': 'petrol',\n",
              " 'ac': True,\n",
              " 'sunroof': True}"
            ]
          },
          "metadata": {},
          "execution_count": 21
        }
      ]
    },
    {
      "cell_type": "code",
      "source": [
        "class Vehicle:\n",
        "    def __init__(self,color):\n",
        "        self.__color = color\n",
        "    def print(self):\n",
        "        print(self.__color,end=\"\")\n",
        "class Car(Vehicle):\n",
        "    def __init__(self,color,numGears):\n",
        "        super().__init__(color)\n",
        "        #Vehicle.color=color\n",
        "        self.numGears = numGears\n",
        "    def print(self):\n",
        "       print(self._Vehicle__color,end=\"\")\n",
        "       print(self.numGears)\n",
        "c = Car('black',5)\n",
        "c.print()"
      ],
      "metadata": {
        "id": "qiTYoV7F9uyI",
        "colab": {
          "base_uri": "https://localhost:8080/"
        },
        "outputId": "f889b042-2f47-4aef-c499-add5780a7def"
      },
      "execution_count": 25,
      "outputs": [
        {
          "output_type": "stream",
          "name": "stdout",
          "text": [
            "black5\n"
          ]
        }
      ]
    },
    {
      "cell_type": "code",
      "source": [],
      "metadata": {
        "id": "7qwImOHo9u0u"
      },
      "execution_count": null,
      "outputs": []
    },
    {
      "cell_type": "code",
      "source": [],
      "metadata": {
        "id": "Vcurpozl9u4T"
      },
      "execution_count": null,
      "outputs": []
    }
  ]
}