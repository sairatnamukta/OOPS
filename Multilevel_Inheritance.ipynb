{
  "nbformat": 4,
  "nbformat_minor": 0,
  "metadata": {
    "colab": {
      "provenance": [],
      "authorship_tag": "ABX9TyPs2HwLOnjGwwCb0whP7CWn",
      "include_colab_link": true
    },
    "kernelspec": {
      "name": "python3",
      "display_name": "Python 3"
    },
    "language_info": {
      "name": "python"
    }
  },
  "cells": [
    {
      "cell_type": "markdown",
      "metadata": {
        "id": "view-in-github",
        "colab_type": "text"
      },
      "source": [
        "<a href=\"https://colab.research.google.com/github/sairatnamukta/OOPS/blob/main/Multilevel_Inheritance.ipynb\" target=\"_parent\"><img src=\"https://colab.research.google.com/assets/colab-badge.svg\" alt=\"Open In Colab\"/></a>"
      ]
    },
    {
      "cell_type": "markdown",
      "source": [
        "parent\n",
        "   |\n",
        "   |\n",
        "Child (parent)\n",
        "    |\n",
        "    |\n",
        "child"
      ],
      "metadata": {
        "id": "btPvlkHziZj7"
      }
    },
    {
      "cell_type": "code",
      "execution_count": 1,
      "metadata": {
        "id": "6WKHf4twiU4H"
      },
      "outputs": [],
      "source": [
        "class vehicle :\n",
        "   def __init__(self,make,model,fuel):\n",
        "     self.make=make\n",
        "     self.model=model\n",
        "     self.fuel=fuel\n",
        "#child class\n",
        "class car(vehicle):\n",
        "   def __init__(self,make,model,fuel,ac,sunroof):\n",
        "     super(car,self).__init__(make,model,fuel)\n",
        "     self.ac=ac\n",
        "     self.sunroof=sunroof\n",
        "#grandchild\n",
        "class electric(car):\n",
        "  def __init__(self,make,model,fuel,ac,sunroof,distance):\n",
        "    super(electric,self).__init__(make,model,fuel,ac,sunroof)\n",
        "    self.distance=distance\n",
        "e=electric(2019,\"tesla\",\"petrol\",True,True,500)"
      ]
    },
    {
      "cell_type": "code",
      "source": [
        "e.__dict__"
      ],
      "metadata": {
        "colab": {
          "base_uri": "https://localhost:8080/"
        },
        "id": "vaDLPcfkju4I",
        "outputId": "a95ae5d3-defc-4e5f-84ff-f3b7680c5651"
      },
      "execution_count": 2,
      "outputs": [
        {
          "output_type": "execute_result",
          "data": {
            "text/plain": [
              "{'make': 2019,\n",
              " 'model': 'tesla',\n",
              " 'fuel': 'petrol',\n",
              " 'ac': True,\n",
              " 'sunroof': True,\n",
              " 'distance': 500}"
            ]
          },
          "metadata": {},
          "execution_count": 2
        }
      ]
    },
    {
      "cell_type": "code",
      "source": [],
      "metadata": {
        "id": "zQiTY12bjx1d"
      },
      "execution_count": null,
      "outputs": []
    }
  ]
}